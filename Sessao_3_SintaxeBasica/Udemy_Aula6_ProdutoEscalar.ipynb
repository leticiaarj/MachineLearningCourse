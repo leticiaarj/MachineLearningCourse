{
 "metadata": {
  "language_info": {
   "codemirror_mode": {
    "name": "ipython",
    "version": 3
   },
   "file_extension": ".py",
   "mimetype": "text/x-python",
   "name": "python",
   "nbconvert_exporter": "python",
   "pygments_lexer": "ipython3",
   "version": "3.8.8"
  },
  "orig_nbformat": 2,
  "kernelspec": {
   "name": "python388jvsc74a57bd066baa583d63c32932cd536392a7047ce4a8d7136f28e43f3615279681f85f0b9",
   "display_name": "Python 3.8.8 64-bit ('base': conda)"
  }
 },
 "nbformat": 4,
 "nbformat_minor": 2,
 "cells": [
  {
   "cell_type": "code",
   "execution_count": 7,
   "metadata": {},
   "outputs": [],
   "source": [
    "import tensorflow.compat.v1 as tf\n",
    "tf.disable_v2_behavior()"
   ]
  },
  {
   "cell_type": "code",
   "execution_count": 22,
   "metadata": {},
   "outputs": [],
   "source": [
    "entradas = tf.constant([[-1.0, 7.0, 5.0]], name = 'entradas')\n",
    "pesos = tf.constant([[0.8, 0.1, 0.0]], name = 'pesos')\n",
    "neuronio = tf.multiply(entradas, pesos)\n",
    "soma = tf.reduce_sum(neuronio)"
   ]
  },
  {
   "cell_type": "code",
   "execution_count": 23,
   "metadata": {},
   "outputs": [
    {
     "output_type": "stream",
     "name": "stdout",
     "text": [
      "[[-1.  7.  5.]]\n\n\n[[0.8 0.1 0. ]]\n\n\n[[-0.8  0.7  0. ]]\n\n\n-0.100000024\n"
     ]
    }
   ],
   "source": [
    "with tf.Session() as sess:\n",
    "    print(sess.run(entradas))\n",
    "    print('\\n')\n",
    "    print(sess.run(pesos))\n",
    "    print('\\n')\n",
    "    print(sess.run(neuronio))\n",
    "    print('\\n')\n",
    "    print(sess.run(soma))"
   ]
  },
  {
   "cell_type": "code",
   "execution_count": null,
   "metadata": {},
   "outputs": [],
   "source": []
  }
 ]
}