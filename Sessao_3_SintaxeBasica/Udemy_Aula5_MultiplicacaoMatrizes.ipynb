{
 "metadata": {
  "language_info": {
   "codemirror_mode": {
    "name": "ipython",
    "version": 3
   },
   "file_extension": ".py",
   "mimetype": "text/x-python",
   "name": "python",
   "nbconvert_exporter": "python",
   "pygments_lexer": "ipython3",
   "version": "3.8.8"
  },
  "orig_nbformat": 2,
  "kernelspec": {
   "name": "python388jvsc74a57bd066baa583d63c32932cd536392a7047ce4a8d7136f28e43f3615279681f85f0b9",
   "display_name": "Python 3.8.8 64-bit ('base': conda)"
  }
 },
 "nbformat": 4,
 "nbformat_minor": 2,
 "cells": [
  {
   "cell_type": "code",
   "execution_count": 1,
   "metadata": {},
   "outputs": [
    {
     "output_type": "stream",
     "name": "stdout",
     "text": [
      "WARNING:tensorflow:From C:\\Users\\letic\\anaconda3\\lib\\site-packages\\tensorflow\\python\\compat\\v2_compat.py:96: disable_resource_variables (from tensorflow.python.ops.variable_scope) is deprecated and will be removed in a future version.\nInstructions for updating:\nnon-resource variables are not supported in the long term\n"
     ]
    }
   ],
   "source": [
    "import tensorflow.compat.v1 as tf\n",
    "tf.disable_v2_behavior()"
   ]
  },
  {
   "cell_type": "code",
   "execution_count": 2,
   "metadata": {},
   "outputs": [],
   "source": [
    "a = tf.constant([[1, 2], [3, 4]], name = 'a')\n",
    "b = tf.constant([[-1, 3], [4, 2]], name = 'b')"
   ]
  },
  {
   "cell_type": "code",
   "execution_count": 3,
   "metadata": {},
   "outputs": [],
   "source": [
    "# Multiplicação Para matrizes\n",
    "multiplicacao1 = tf.matmul(a, b) "
   ]
  },
  {
   "cell_type": "code",
   "execution_count": 4,
   "metadata": {},
   "outputs": [
    {
     "output_type": "stream",
     "name": "stdout",
     "text": [
      "[[1 2]\n [3 4]]\n\n\n[[-1  3]\n [ 4  2]]\n\n\n[[ 7  7]\n [13 17]]\n"
     ]
    }
   ],
   "source": [
    "with tf.Session() as sess:\n",
    "    print(sess.run(a))\n",
    "    print('\\n')\n",
    "    print(sess.run(b))\n",
    "    print('\\n')\n",
    "    print(sess.run(multiplicacao1))"
   ]
  },
  {
   "cell_type": "code",
   "execution_count": 12,
   "metadata": {},
   "outputs": [],
   "source": [
    "# Multiplicação Para matrizes\n",
    "multiplicacao2 = tf.matmul(b, a) "
   ]
  },
  {
   "cell_type": "code",
   "execution_count": 13,
   "metadata": {},
   "outputs": [
    {
     "output_type": "stream",
     "name": "stdout",
     "text": [
      "[[-1  3]\n [ 4  2]]\n\n\n[[1 2]\n [3 4]]\n\n\n[[ 8 10]\n [10 16]]\n"
     ]
    }
   ],
   "source": [
    "with tf.Session() as sess:\n",
    "    print(sess.run(b))\n",
    "    print('\\n')\n",
    "    print(sess.run(a))\n",
    "    print('\\n')\n",
    "    print(sess.run(multiplicacao2))"
   ]
  },
  {
   "cell_type": "code",
   "execution_count": 14,
   "metadata": {},
   "outputs": [],
   "source": [
    "c = tf.constant([[2, 3], [0, 1], [-1, 4]], name = 'c')\n",
    "d = tf.constant([[1, 2, 3], [-2, 0, 4]], name = 'd')\n",
    "multiplicacao3 = tf.matmul(c, d) "
   ]
  },
  {
   "cell_type": "code",
   "execution_count": 15,
   "metadata": {},
   "outputs": [
    {
     "output_type": "stream",
     "name": "stdout",
     "text": [
      "[[ 2  3]\n [ 0  1]\n [-1  4]]\n\n\n[[ 1  2  3]\n [-2  0  4]]\n\n\n[[-4  4 18]\n [-2  0  4]\n [-9 -2 13]]\n"
     ]
    }
   ],
   "source": [
    "with tf.Session() as sess:\n",
    "    print(sess.run(c))\n",
    "    print('\\n')\n",
    "    print(sess.run(d))\n",
    "    print('\\n')\n",
    "    print(sess.run(multiplicacao3))"
   ]
  },
  {
   "cell_type": "code",
   "execution_count": null,
   "metadata": {},
   "outputs": [],
   "source": []
  }
 ]
}